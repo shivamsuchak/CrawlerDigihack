{
 "cells": [
  {
   "cell_type": "code",
   "execution_count": 6,
   "metadata": {},
   "outputs": [
    {
     "name": "stderr",
     "output_type": "stream",
     "text": [
      "Token indices sequence length is longer than the specified maximum sequence length for this model (6575 > 512). Running this sequence through the model will result in indexing errors\n"
     ]
    },
    {
     "name": "stdout",
     "output_type": "stream",
     "text": [
      "[{'summary_text': '\"Die GC-GRUPPE ist nicht nur der zuverlässige Partner des Fachhandwerks, sondern auch in 14 weiteren Ländern vertreten\", \"Zum Karriere-Bereich\": \"Mit der ersten Online-Shop der Branche. Die GC BIB bietet die gesamte Sortimentsvielfalt und deckt dabei die komplette Bandbreite der Haustechnik ab.\", \"Die Nachfrage nach Photovoltaik-Systeme, von der WC-Sitz bis zum Schallschutz-Set, von '}]\n"
     ]
    }
   ],
   "source": [
    "from transformers import pipeline\n",
    "\n",
    "summarizer = pipeline(\"summarization\", model=\"Falconsai/text_summarization\")\n",
    "\n",
    "### TODO use max 512 tokens from tiktoken\n",
    "\n",
    "ARTICLE = \"\"\" \n",
    "      \"Entdecken Sie unser Sortiment: Über 5 Millionen Artikel \\u2013 schnell und zuverlässig geliefert\",\n",
    "      \"Mit mehr als 5 Millionen Artikeln und 2.650 Qualitätslieferanten bietet die GC-GRUPPE ihren Kunden eine einzigartige Sortimentsvielfalt und deckt dabei die komplette Bandbreite der Haustechnik ab.\",\n",
    "      \"Entdecken Sie das gesamte Sortiment auch in unserem Online-Shop. Schnell und zuverlässig geliefert.\",\n",
    "      \"ZU GC ONLINE PLUS\",\n",
    "      \"Vom WC-Sitz über das Tellerventil bis zum Schallschutz-Set, von Kugelhähnen über Dosenklemmen bis zu Arbeitshandschuhen \\u2013 dank TRINNITY profitieren Sie von einer breiten, stets wachsenden Produktpalette. Denn mit TRINNITY stellt Ihnen die GC-GRUPPE eine Handelsmarke zur Verfügung, die sämtliche Bereiche der Haustechnik abdeckt.\",\n",
    "      \"TRINNITY-Artikel werden von renommierten Herstellern produziert und versprechen damit Sicherheit und Qualität. 100 Prozent dreistufig. 100 Prozent auf die Wünsche und Bedürfnisse der \\u201eFrauen und Männer vom Fach\\u201c ausgerichtet.\",\n",
    "      \"Zu TRINNITY\",\n",
    "      \"Manchmal sind es schon die kleinen Teile, die den großen Unterschied ausmachen, an anderer Stelle sorgen exakt aufeinander abgestimmte Systemlösungen für einen Quantensprung an Energieeffizienz und Klimaschutz. Als Großhandel für Haustechnik bietet die GC-GRUPPE ihren Kunden ein einzigartiges Sortiment von mehr als 4,5 Millionen Produkten aus einer Hand \\u2013 vom Fitting bis zur Heizung mit angeschlossener Photovoltaikanlage.\",\n",
    "      \"Wer auf der Baustelle unterwegs ist oder ein Projekt vor der Brust hat, braucht verlässliche Partner und höchste Warenverfügbarkeit. Bundesweit können unsere Kunden auf unsere Lager zurückgreifen, vom ABEX, unserem Abholexpresslager um die Ecke, über unsere Lagerlogistik in den Partnerhäusern bis zu unserem GC24-EXPRESS-Lager in Unna. Wir sorgen für Verfügbarkeit und schaffen damit Sicherheit, Flexibilität Handlungsfähigkeit und Freiräume für unsere Kunden.\",\n",
    "      \"Als Sanitärgroßhandel spielt das Thema Bad in unserer Gruppe eine zentrale Rolle. Unser Sortiment bietet hier alles, was unsere Kunden und ihre Endverbraucher suchen. In allen Größen, in allen Stilen, in allen Preiskategorien. Das Fachhandwerk hat mit unserem Sanitär-Sortiment für jeden Kundenwunsch die passende Lösung parat. Schnell und pünktlich geliefert.\",\n",
    "      \"Als SHK-Fachgroßhandel setzen wir gleichzeitig im Bereich Heizung Trends. Im Zusammenspiel mit den Top-Herstellern der Branche überzeugen wir nicht nur mit einem umfassenden Angebot an Lagerware, sondern \n",
    "\"\"\"\n",
    "print(summarizer(ARTICLE, max_length=1024, min_length=30, do_sample=False))"
   ]
  },
  {
   "cell_type": "code",
   "execution_count": null,
   "metadata": {},
   "outputs": [],
   "source": [
    "[{'summary_text': '\"Entdecken Sie unser Sortiment: Über 5 Millionen Artikel – schnell und zuverlässig geliefert\" \"ZU GC ONLINE PLUS\", \"Vom WC-Sitz über das Tellerventil bis zum Schallschutz-Set\" \"TRINNITY\" profitieren Sie von einer breiten, stets wachsenden Produktpalette . \"Manchmal sind es schon die kleinen Teile, die den großen Unterschied ausmachen,\" an anderer Stelle sorgen exakt aufeinander abgestimmte Systemlösungen für einen Quantensprung'}]"
   ]
  }
 ],
 "metadata": {
  "kernelspec": {
   "display_name": ".venv",
   "language": "python",
   "name": "python3"
  },
  "language_info": {
   "codemirror_mode": {
    "name": "ipython",
    "version": 3
   },
   "file_extension": ".py",
   "mimetype": "text/x-python",
   "name": "python",
   "nbconvert_exporter": "python",
   "pygments_lexer": "ipython3",
   "version": "3.9.6"
  }
 },
 "nbformat": 4,
 "nbformat_minor": 2
}
