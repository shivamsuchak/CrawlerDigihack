{
 "cells": [
  {
   "cell_type": "code",
   "execution_count": 4,
   "metadata": {},
   "outputs": [
    {
     "data": {
      "text/plain": [
       "[{'label': '9609', 'score': 0.7657137513160706},\n",
       " {'label': '0162', 'score': 0.04419506713747978},\n",
       " {'label': '8551', 'score': 0.038701944053173065},\n",
       " {'label': '9319', 'score': 0.029371457174420357},\n",
       " {'label': '8690', 'score': 0.01891707070171833}]"
      ]
     },
     "execution_count": 4,
     "metadata": {},
     "output_type": "execute_result"
    }
   ],
   "source": [
    "from nacePredictionServer import NaceCodePrediction\n",
    "\n",
    "predictor = NaceCodePrediction()\n",
    "predictor.predict(\"Ich bin ein berater\")"
   ]
  }
 ],
 "metadata": {
  "kernelspec": {
   "display_name": ".venv",
   "language": "python",
   "name": "python3"
  },
  "language_info": {
   "codemirror_mode": {
    "name": "ipython",
    "version": 3
   },
   "file_extension": ".py",
   "mimetype": "text/x-python",
   "name": "python",
   "nbconvert_exporter": "python",
   "pygments_lexer": "ipython3",
   "version": "3.9.6"
  }
 },
 "nbformat": 4,
 "nbformat_minor": 2
}
